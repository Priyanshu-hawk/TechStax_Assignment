{
 "cells": [
  {
   "cell_type": "code",
   "execution_count": 1,
   "metadata": {},
   "outputs": [],
   "source": [
    "import pandas as pd\n",
    "from sklearn.linear_model import LogisticRegression\n",
    "from sklearn.metrics import accuracy_score"
   ]
  },
  {
   "cell_type": "code",
   "execution_count": 2,
   "metadata": {},
   "outputs": [],
   "source": [
    "df = pd.read_csv('./dataset/encoded_accidents.csv')"
   ]
  },
  {
   "cell_type": "code",
   "execution_count": 3,
   "metadata": {},
   "outputs": [],
   "source": [
    "# X, y for training\n",
    "from sklearn.model_selection import train_test_split\n",
    "\n",
    "X = df.drop('Severity', axis=1)\n",
    "y = df['Severity']\n",
    "y = [int(i)-1 for i in y]\n",
    "\n",
    "# train = 75 , test = 10 and validation = 15 split\n",
    "X_train, X_test, y_train, y_test = train_test_split(X, y, test_size=0.25, random_state=42)\n",
    "\n",
    "X_test, X_val, y_test, y_val = train_test_split(X_test, y_test, test_size=0.6, random_state=42)"
   ]
  },
  {
   "cell_type": "code",
   "execution_count": 5,
   "metadata": {},
   "outputs": [],
   "source": [
    "# ML model to use - [\"Logistic Regression\", \"Few ensamble models\", \"XGBoost\"]\n",
    "# DNN model to use - [\"Simple DNN\"]"
   ]
  },
  {
   "cell_type": "code",
   "execution_count": null,
   "metadata": {},
   "outputs": [
    {
     "name": "stderr",
     "output_type": "stream",
     "text": [
      "/home/infinity/Desktop/texhstarx assignment/venv/lib/python3.10/site-packages/sklearn/linear_model/_sag.py:348: ConvergenceWarning: The max_iter was reached which means the coef_ did not converge\n",
      "  warnings.warn(\n"
     ]
    },
    {
     "name": "stdout",
     "output_type": "stream",
     "text": [
      "Validation Accuracy using Logistic Regression:  0.7969817463706234\n",
      "Test Accuracy using Logistic Regression:  0.7966065283498723\n"
     ]
    }
   ],
   "source": [
    "# # Logistic Regression\n",
    "\n",
    "# log_reg = LogisticRegression(max_iter=100, penalty='l2', solver='saga', n_jobs=-1)\n",
    "# log_reg.fit(X_train, y_train, )\n",
    "# y_pred = log_reg.predict(X_val)\n",
    "# acc_val = accuracy_score(y_val, y_pred)\n",
    "# print(\"Validation Accuracy using Logistic Regression: \", acc_val)\n",
    "\n",
    "\n",
    "# y_pred = log_reg.predict(X_test)\n",
    "# acc_test = accuracy_score(y_test, y_pred)\n",
    "# print(\"Test Accuracy using Logistic Regression: \", acc_test)\n"
   ]
  },
  {
   "cell_type": "code",
   "execution_count": null,
   "metadata": {},
   "outputs": [],
   "source": [
    "# # saving the model\n",
    "# import pickle, os\n",
    "# os.makedirs('./models', exist_ok=True)\n",
    "# with open('./models/logistic_regression.pkl', 'wb') as f:\n",
    "#     pickle.dump(log_reg, f)"
   ]
  },
  {
   "cell_type": "code",
   "execution_count": 5,
   "metadata": {},
   "outputs": [
    {
     "data": {
      "text/plain": [
       "21"
      ]
     },
     "execution_count": 5,
     "metadata": {},
     "output_type": "execute_result"
    }
   ],
   "source": [
    "len(X.columns)"
   ]
  },
  {
   "cell_type": "code",
   "execution_count": null,
   "metadata": {},
   "outputs": [
    {
     "name": "stdout",
     "output_type": "stream",
     "text": [
      "Validation Accuracy using Random Forest:  0.8508584187304298\n",
      "Test Accuracy using Random Forest:  0.8501452419743302\n"
     ]
    }
   ],
   "source": [
    "# # Ensamble methods - Random Forest\n",
    "# from sklearn.ensemble import RandomForestClassifier\n",
    "\n",
    "# rf = RandomForestClassifier(n_estimators=24, max_depth=30, n_jobs=-1)\n",
    "# rf.fit(X_train, y_train)\n",
    "# y_pred = rf.predict(X_val)\n",
    "# acc_val = accuracy_score(y_val, y_pred)\n",
    "# print(\"Validation Accuracy using Random Forest: \", acc_val)\n",
    "\n",
    "# y_pred = rf.predict(X_test)\n",
    "# acc_test = accuracy_score(y_test, y_pred)\n",
    "# print(\"Test Accuracy using Random Forest: \", acc_test)\n"
   ]
  },
  {
   "cell_type": "code",
   "execution_count": 12,
   "metadata": {},
   "outputs": [],
   "source": [
    "# # saving the model\n",
    "# import pickle, os\n",
    "# os.makedirs('./models', exist_ok=True)\n",
    "# with open('./models/random_forest.pkl', 'wb') as f:\n",
    "#     pickle.dump(rf, f)"
   ]
  },
  {
   "cell_type": "code",
   "execution_count": 9,
   "metadata": {},
   "outputs": [
    {
     "name": "stdout",
     "output_type": "stream",
     "text": [
      "Validation Accuracy using XGBOOST  0.8581465271847424\n",
      "Test Accuracy using XGBOOST  0.857672205476363\n"
     ]
    }
   ],
   "source": [
    "# # Ensamble methods - XGBoost\n",
    "from xgboost import XGBClassifier\n",
    "\n",
    "xgb = XGBClassifier(n_estimators=24, max_depth=30, n_jobs=-1)\n",
    "xgb.fit(X_train, y_train)\n",
    "y_pred = xgb.predict(X_val)\n",
    "acc_val = accuracy_score(y_val, y_pred)\n",
    "print(\"Validation Accuracy using XGBOOST \", acc_val)\n",
    "\n",
    "y_pred = xgb.predict(X_test)\n",
    "acc_test = accuracy_score(y_test, y_pred)\n",
    "print(\"Test Accuracy using XGBOOST \", acc_test)\n"
   ]
  },
  {
   "cell_type": "code",
   "execution_count": 10,
   "metadata": {},
   "outputs": [],
   "source": [
    "import pickle, os\n",
    "os.makedirs('./models', exist_ok=True)\n",
    "with open('./models/xgboost.pkl', 'wb') as f:\n",
    "    pickle.dump(xgb, f)"
   ]
  },
  {
   "cell_type": "markdown",
   "metadata": {},
   "source": [
    "# Accuracy We got\n",
    "## 1. Using Logistic Regression\n",
    "- Validation Accuracy using Logistic Regression:  0.7969817463706234\n",
    "- Test Accuracy using Logistic Regression:  0.7966065283498723\n",
    "\n",
    "## 2. Using Random Forest\n",
    "- Validation Accuracy using Random Forest:  0.8508584187304298\n",
    "- Test Accuracy using Random Forest:  0.8501452419743302\n",
    "\n",
    "## 3. Using XGBoost\n",
    "- Validation Accuracy using XGBOOST  0.8581465271847424\n",
    "- Test Accuracy using XGBOOST  0.857672205476363\n"
   ]
  },
  {
   "cell_type": "markdown",
   "metadata": {},
   "source": []
  }
 ],
 "metadata": {
  "kernelspec": {
   "display_name": "venv",
   "language": "python",
   "name": "python3"
  },
  "language_info": {
   "codemirror_mode": {
    "name": "ipython",
    "version": 3
   },
   "file_extension": ".py",
   "mimetype": "text/x-python",
   "name": "python",
   "nbconvert_exporter": "python",
   "pygments_lexer": "ipython3",
   "version": "3.10.12"
  }
 },
 "nbformat": 4,
 "nbformat_minor": 2
}
