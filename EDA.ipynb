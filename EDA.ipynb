{
 "cells": [
  {
   "cell_type": "code",
   "execution_count": 3,
   "metadata": {},
   "outputs": [],
   "source": [
    "import polars as pd"
   ]
  },
  {
   "cell_type": "code",
   "execution_count": 4,
   "metadata": {},
   "outputs": [],
   "source": [
    "df = pd.read_csv(\"./dataset/US_Accidents_March23.csv\")"
   ]
  },
  {
   "cell_type": "code",
   "execution_count": 5,
   "metadata": {},
   "outputs": [
    {
     "data": {
      "text/plain": [
       "(7728394, 46)"
      ]
     },
     "execution_count": 5,
     "metadata": {},
     "output_type": "execute_result"
    }
   ],
   "source": [
    "# row and columns (r,c)\n",
    "df.shape "
   ]
  },
  {
   "cell_type": "code",
   "execution_count": 6,
   "metadata": {},
   "outputs": [
    {
     "data": {
      "text/html": [
       "<div><style>\n",
       ".dataframe > thead > tr,\n",
       ".dataframe > tbody > tr {\n",
       "  text-align: right;\n",
       "  white-space: pre-wrap;\n",
       "}\n",
       "</style>\n",
       "<small>shape: (20, 46)</small><table border=\"1\" class=\"dataframe\"><thead><tr><th>ID</th><th>Source</th><th>Severity</th><th>Start_Time</th><th>End_Time</th><th>Start_Lat</th><th>Start_Lng</th><th>End_Lat</th><th>End_Lng</th><th>Distance(mi)</th><th>Description</th><th>Street</th><th>City</th><th>County</th><th>State</th><th>Zipcode</th><th>Country</th><th>Timezone</th><th>Airport_Code</th><th>Weather_Timestamp</th><th>Temperature(F)</th><th>Wind_Chill(F)</th><th>Humidity(%)</th><th>Pressure(in)</th><th>Visibility(mi)</th><th>Wind_Direction</th><th>Wind_Speed(mph)</th><th>Precipitation(in)</th><th>Weather_Condition</th><th>Amenity</th><th>Bump</th><th>Crossing</th><th>Give_Way</th><th>Junction</th><th>No_Exit</th><th>Railway</th><th>Roundabout</th><th>Station</th><th>Stop</th><th>Traffic_Calming</th><th>Traffic_Signal</th><th>Turning_Loop</th><th>Sunrise_Sunset</th><th>Civil_Twilight</th><th>Nautical_Twilight</th><th>Astronomical_Twilight</th></tr><tr><td>str</td><td>str</td><td>i64</td><td>str</td><td>str</td><td>f64</td><td>f64</td><td>str</td><td>str</td><td>f64</td><td>str</td><td>str</td><td>str</td><td>str</td><td>str</td><td>str</td><td>str</td><td>str</td><td>str</td><td>str</td><td>f64</td><td>f64</td><td>f64</td><td>f64</td><td>f64</td><td>str</td><td>f64</td><td>f64</td><td>str</td><td>bool</td><td>bool</td><td>bool</td><td>bool</td><td>bool</td><td>bool</td><td>bool</td><td>bool</td><td>bool</td><td>bool</td><td>bool</td><td>bool</td><td>bool</td><td>str</td><td>str</td><td>str</td><td>str</td></tr></thead><tbody><tr><td>&quot;A-1&quot;</td><td>&quot;Source2&quot;</td><td>3</td><td>&quot;2016-02-08 05:46:00&quot;</td><td>&quot;2016-02-08 11:00:00&quot;</td><td>39.865147</td><td>-84.058723</td><td>null</td><td>null</td><td>0.01</td><td>&quot;Right lane blocked due to acci…</td><td>&quot;I-70 E&quot;</td><td>&quot;Dayton&quot;</td><td>&quot;Montgomery&quot;</td><td>&quot;OH&quot;</td><td>&quot;45424&quot;</td><td>&quot;US&quot;</td><td>&quot;US/Eastern&quot;</td><td>&quot;KFFO&quot;</td><td>&quot;2016-02-08 05:58:00&quot;</td><td>36.9</td><td>null</td><td>91.0</td><td>29.68</td><td>10.0</td><td>&quot;Calm&quot;</td><td>null</td><td>0.02</td><td>&quot;Light Rain&quot;</td><td>false</td><td>false</td><td>false</td><td>false</td><td>false</td><td>false</td><td>false</td><td>false</td><td>false</td><td>false</td><td>false</td><td>false</td><td>false</td><td>&quot;Night&quot;</td><td>&quot;Night&quot;</td><td>&quot;Night&quot;</td><td>&quot;Night&quot;</td></tr><tr><td>&quot;A-2&quot;</td><td>&quot;Source2&quot;</td><td>2</td><td>&quot;2016-02-08 06:07:59&quot;</td><td>&quot;2016-02-08 06:37:59&quot;</td><td>39.928059</td><td>-82.831184</td><td>null</td><td>null</td><td>0.01</td><td>&quot;Accident on Brice Rd at Tussin…</td><td>&quot;Brice Rd&quot;</td><td>&quot;Reynoldsburg&quot;</td><td>&quot;Franklin&quot;</td><td>&quot;OH&quot;</td><td>&quot;43068-3402&quot;</td><td>&quot;US&quot;</td><td>&quot;US/Eastern&quot;</td><td>&quot;KCMH&quot;</td><td>&quot;2016-02-08 05:51:00&quot;</td><td>37.9</td><td>null</td><td>100.0</td><td>29.65</td><td>10.0</td><td>&quot;Calm&quot;</td><td>null</td><td>0.0</td><td>&quot;Light Rain&quot;</td><td>false</td><td>false</td><td>false</td><td>false</td><td>false</td><td>false</td><td>false</td><td>false</td><td>false</td><td>false</td><td>false</td><td>false</td><td>false</td><td>&quot;Night&quot;</td><td>&quot;Night&quot;</td><td>&quot;Night&quot;</td><td>&quot;Day&quot;</td></tr><tr><td>&quot;A-3&quot;</td><td>&quot;Source2&quot;</td><td>2</td><td>&quot;2016-02-08 06:49:27&quot;</td><td>&quot;2016-02-08 07:19:27&quot;</td><td>39.063148</td><td>-84.032608</td><td>null</td><td>null</td><td>0.01</td><td>&quot;Accident on OH-32 State Route …</td><td>&quot;State Route 32&quot;</td><td>&quot;Williamsburg&quot;</td><td>&quot;Clermont&quot;</td><td>&quot;OH&quot;</td><td>&quot;45176&quot;</td><td>&quot;US&quot;</td><td>&quot;US/Eastern&quot;</td><td>&quot;KI69&quot;</td><td>&quot;2016-02-08 06:56:00&quot;</td><td>36.0</td><td>33.3</td><td>100.0</td><td>29.67</td><td>10.0</td><td>&quot;SW&quot;</td><td>3.5</td><td>null</td><td>&quot;Overcast&quot;</td><td>false</td><td>false</td><td>false</td><td>false</td><td>false</td><td>false</td><td>false</td><td>false</td><td>false</td><td>false</td><td>false</td><td>true</td><td>false</td><td>&quot;Night&quot;</td><td>&quot;Night&quot;</td><td>&quot;Day&quot;</td><td>&quot;Day&quot;</td></tr><tr><td>&quot;A-4&quot;</td><td>&quot;Source2&quot;</td><td>3</td><td>&quot;2016-02-08 07:23:34&quot;</td><td>&quot;2016-02-08 07:53:34&quot;</td><td>39.747753</td><td>-84.205582</td><td>null</td><td>null</td><td>0.01</td><td>&quot;Accident on I-75 Southbound at…</td><td>&quot;I-75 S&quot;</td><td>&quot;Dayton&quot;</td><td>&quot;Montgomery&quot;</td><td>&quot;OH&quot;</td><td>&quot;45417&quot;</td><td>&quot;US&quot;</td><td>&quot;US/Eastern&quot;</td><td>&quot;KDAY&quot;</td><td>&quot;2016-02-08 07:38:00&quot;</td><td>35.1</td><td>31.0</td><td>96.0</td><td>29.64</td><td>9.0</td><td>&quot;SW&quot;</td><td>4.6</td><td>null</td><td>&quot;Mostly Cloudy&quot;</td><td>false</td><td>false</td><td>false</td><td>false</td><td>false</td><td>false</td><td>false</td><td>false</td><td>false</td><td>false</td><td>false</td><td>false</td><td>false</td><td>&quot;Night&quot;</td><td>&quot;Day&quot;</td><td>&quot;Day&quot;</td><td>&quot;Day&quot;</td></tr><tr><td>&quot;A-5&quot;</td><td>&quot;Source2&quot;</td><td>2</td><td>&quot;2016-02-08 07:39:07&quot;</td><td>&quot;2016-02-08 08:09:07&quot;</td><td>39.627781</td><td>-84.188354</td><td>null</td><td>null</td><td>0.01</td><td>&quot;Accident on McEwen Rd at OH-72…</td><td>&quot;Miamisburg Centerville Rd&quot;</td><td>&quot;Dayton&quot;</td><td>&quot;Montgomery&quot;</td><td>&quot;OH&quot;</td><td>&quot;45459&quot;</td><td>&quot;US&quot;</td><td>&quot;US/Eastern&quot;</td><td>&quot;KMGY&quot;</td><td>&quot;2016-02-08 07:53:00&quot;</td><td>36.0</td><td>33.3</td><td>89.0</td><td>29.65</td><td>6.0</td><td>&quot;SW&quot;</td><td>3.5</td><td>null</td><td>&quot;Mostly Cloudy&quot;</td><td>false</td><td>false</td><td>false</td><td>false</td><td>false</td><td>false</td><td>false</td><td>false</td><td>false</td><td>false</td><td>false</td><td>true</td><td>false</td><td>&quot;Day&quot;</td><td>&quot;Day&quot;</td><td>&quot;Day&quot;</td><td>&quot;Day&quot;</td></tr><tr><td>&hellip;</td><td>&hellip;</td><td>&hellip;</td><td>&hellip;</td><td>&hellip;</td><td>&hellip;</td><td>&hellip;</td><td>&hellip;</td><td>&hellip;</td><td>&hellip;</td><td>&hellip;</td><td>&hellip;</td><td>&hellip;</td><td>&hellip;</td><td>&hellip;</td><td>&hellip;</td><td>&hellip;</td><td>&hellip;</td><td>&hellip;</td><td>&hellip;</td><td>&hellip;</td><td>&hellip;</td><td>&hellip;</td><td>&hellip;</td><td>&hellip;</td><td>&hellip;</td><td>&hellip;</td><td>&hellip;</td><td>&hellip;</td><td>&hellip;</td><td>&hellip;</td><td>&hellip;</td><td>&hellip;</td><td>&hellip;</td><td>&hellip;</td><td>&hellip;</td><td>&hellip;</td><td>&hellip;</td><td>&hellip;</td><td>&hellip;</td><td>&hellip;</td><td>&hellip;</td><td>&hellip;</td><td>&hellip;</td><td>&hellip;</td><td>&hellip;</td></tr><tr><td>&quot;A-16&quot;</td><td>&quot;Source2&quot;</td><td>2</td><td>&quot;2016-02-08 08:43:20&quot;</td><td>&quot;2016-02-08 09:13:20&quot;</td><td>39.745888</td><td>-84.17041</td><td>null</td><td>null</td><td>0.01</td><td>&quot;Accident on Wayne Ave at Glenc…</td><td>&quot;Glencoe Ave&quot;</td><td>&quot;Dayton&quot;</td><td>&quot;Montgomery&quot;</td><td>&quot;OH&quot;</td><td>&quot;45410-1721&quot;</td><td>&quot;US&quot;</td><td>&quot;US/Eastern&quot;</td><td>&quot;KFFO&quot;</td><td>&quot;2016-02-08 08:28:00&quot;</td><td>33.8</td><td>null</td><td>100.0</td><td>29.63</td><td>3.0</td><td>&quot;SW&quot;</td><td>2.3</td><td>null</td><td>&quot;Overcast&quot;</td><td>false</td><td>false</td><td>false</td><td>false</td><td>false</td><td>false</td><td>false</td><td>false</td><td>false</td><td>false</td><td>false</td><td>false</td><td>false</td><td>&quot;Day&quot;</td><td>&quot;Day&quot;</td><td>&quot;Day&quot;</td><td>&quot;Day&quot;</td></tr><tr><td>&quot;A-17&quot;</td><td>&quot;Source2&quot;</td><td>2</td><td>&quot;2016-02-08 08:53:17&quot;</td><td>&quot;2016-02-08 09:23:17&quot;</td><td>39.748329</td><td>-84.224007</td><td>null</td><td>null</td><td>0.01</td><td>&quot;Accident on James H McGee Blvd…</td><td>&quot;S James H McGee Blvd&quot;</td><td>&quot;Dayton&quot;</td><td>&quot;Montgomery&quot;</td><td>&quot;OH&quot;</td><td>&quot;45402&quot;</td><td>&quot;US&quot;</td><td>&quot;US/Eastern&quot;</td><td>&quot;KFFO&quot;</td><td>&quot;2016-02-08 08:58:00&quot;</td><td>35.6</td><td>null</td><td>99.0</td><td>29.65</td><td>7.0</td><td>&quot;WSW&quot;</td><td>2.3</td><td>null</td><td>&quot;Mostly Cloudy&quot;</td><td>false</td><td>false</td><td>false</td><td>false</td><td>false</td><td>false</td><td>false</td><td>false</td><td>false</td><td>false</td><td>false</td><td>false</td><td>false</td><td>&quot;Day&quot;</td><td>&quot;Day&quot;</td><td>&quot;Day&quot;</td><td>&quot;Day&quot;</td></tr><tr><td>&quot;A-18&quot;</td><td>&quot;Source2&quot;</td><td>2</td><td>&quot;2016-02-08 09:24:37&quot;</td><td>&quot;2016-02-08 09:54:37&quot;</td><td>39.752174</td><td>-84.239952</td><td>null</td><td>null</td><td>0.0</td><td>&quot;Accident on Delphos Ave at Bro…</td><td>&quot;Delphos Ave&quot;</td><td>&quot;Dayton&quot;</td><td>&quot;Montgomery&quot;</td><td>&quot;OH&quot;</td><td>&quot;45417-1727&quot;</td><td>&quot;US&quot;</td><td>&quot;US/Eastern&quot;</td><td>&quot;KDAY&quot;</td><td>&quot;2016-02-08 08:56:00&quot;</td><td>36.0</td><td>31.1</td><td>89.0</td><td>29.65</td><td>10.0</td><td>&quot;NW&quot;</td><td>5.8</td><td>null</td><td>&quot;Mostly Cloudy&quot;</td><td>false</td><td>false</td><td>false</td><td>false</td><td>false</td><td>false</td><td>false</td><td>false</td><td>false</td><td>false</td><td>false</td><td>false</td><td>false</td><td>&quot;Day&quot;</td><td>&quot;Day&quot;</td><td>&quot;Day&quot;</td><td>&quot;Day&quot;</td></tr><tr><td>&quot;A-19&quot;</td><td>&quot;Source2&quot;</td><td>2</td><td>&quot;2016-02-08 09:25:17&quot;</td><td>&quot;2016-02-08 09:55:17&quot;</td><td>39.740669</td><td>-84.184135</td><td>null</td><td>null</td><td>0.01</td><td>&quot;Accident on Stewart St near Ru…</td><td>&quot;Rubicon St&quot;</td><td>&quot;Dayton&quot;</td><td>&quot;Montgomery&quot;</td><td>&quot;OH&quot;</td><td>&quot;45409-2659&quot;</td><td>&quot;US&quot;</td><td>&quot;US/Eastern&quot;</td><td>&quot;KFFO&quot;</td><td>&quot;2016-02-08 09:38:00&quot;</td><td>37.4</td><td>32.1</td><td>93.0</td><td>29.63</td><td>10.0</td><td>&quot;WSW&quot;</td><td>6.9</td><td>null</td><td>&quot;Overcast&quot;</td><td>false</td><td>false</td><td>true</td><td>false</td><td>false</td><td>false</td><td>false</td><td>false</td><td>false</td><td>false</td><td>false</td><td>true</td><td>false</td><td>&quot;Day&quot;</td><td>&quot;Day&quot;</td><td>&quot;Day&quot;</td><td>&quot;Day&quot;</td></tr><tr><td>&quot;A-20&quot;</td><td>&quot;Source2&quot;</td><td>2</td><td>&quot;2016-02-08 09:35:35&quot;</td><td>&quot;2016-02-08 10:05:35&quot;</td><td>39.790703</td><td>-84.244461</td><td>null</td><td>null</td><td>0.01</td><td>&quot;Accident on Hillcrest Ave at P…</td><td>&quot;W Hillcrest Ave&quot;</td><td>&quot;Dayton&quot;</td><td>&quot;Montgomery&quot;</td><td>&quot;OH&quot;</td><td>&quot;45406-2640&quot;</td><td>&quot;US&quot;</td><td>&quot;US/Eastern&quot;</td><td>&quot;KDAY&quot;</td><td>&quot;2016-02-08 09:56:00&quot;</td><td>36.0</td><td>30.3</td><td>89.0</td><td>29.65</td><td>10.0</td><td>&quot;West&quot;</td><td>6.9</td><td>null</td><td>&quot;Mostly Cloudy&quot;</td><td>false</td><td>false</td><td>false</td><td>false</td><td>false</td><td>false</td><td>false</td><td>false</td><td>false</td><td>false</td><td>false</td><td>false</td><td>false</td><td>&quot;Day&quot;</td><td>&quot;Day&quot;</td><td>&quot;Day&quot;</td><td>&quot;Day&quot;</td></tr></tbody></table></div>"
      ],
      "text/plain": [
       "shape: (20, 46)\n",
       "┌──────┬─────────┬──────────┬─────────────┬───┬─────────────┬────────────┬────────────┬────────────┐\n",
       "│ ID   ┆ Source  ┆ Severity ┆ Start_Time  ┆ … ┆ Sunrise_Sun ┆ Civil_Twil ┆ Nautical_T ┆ Astronomic │\n",
       "│ ---  ┆ ---     ┆ ---      ┆ ---         ┆   ┆ set         ┆ ight       ┆ wilight    ┆ al_Twiligh │\n",
       "│ str  ┆ str     ┆ i64      ┆ str         ┆   ┆ ---         ┆ ---        ┆ ---        ┆ t          │\n",
       "│      ┆         ┆          ┆             ┆   ┆ str         ┆ str        ┆ str        ┆ ---        │\n",
       "│      ┆         ┆          ┆             ┆   ┆             ┆            ┆            ┆ str        │\n",
       "╞══════╪═════════╪══════════╪═════════════╪═══╪═════════════╪════════════╪════════════╪════════════╡\n",
       "│ A-1  ┆ Source2 ┆ 3        ┆ 2016-02-08  ┆ … ┆ Night       ┆ Night      ┆ Night      ┆ Night      │\n",
       "│      ┆         ┆          ┆ 05:46:00    ┆   ┆             ┆            ┆            ┆            │\n",
       "│ A-2  ┆ Source2 ┆ 2        ┆ 2016-02-08  ┆ … ┆ Night       ┆ Night      ┆ Night      ┆ Day        │\n",
       "│      ┆         ┆          ┆ 06:07:59    ┆   ┆             ┆            ┆            ┆            │\n",
       "│ A-3  ┆ Source2 ┆ 2        ┆ 2016-02-08  ┆ … ┆ Night       ┆ Night      ┆ Day        ┆ Day        │\n",
       "│      ┆         ┆          ┆ 06:49:27    ┆   ┆             ┆            ┆            ┆            │\n",
       "│ A-4  ┆ Source2 ┆ 3        ┆ 2016-02-08  ┆ … ┆ Night       ┆ Day        ┆ Day        ┆ Day        │\n",
       "│      ┆         ┆          ┆ 07:23:34    ┆   ┆             ┆            ┆            ┆            │\n",
       "│ A-5  ┆ Source2 ┆ 2        ┆ 2016-02-08  ┆ … ┆ Day         ┆ Day        ┆ Day        ┆ Day        │\n",
       "│      ┆         ┆          ┆ 07:39:07    ┆   ┆             ┆            ┆            ┆            │\n",
       "│ …    ┆ …       ┆ …        ┆ …           ┆ … ┆ …           ┆ …          ┆ …          ┆ …          │\n",
       "│ A-16 ┆ Source2 ┆ 2        ┆ 2016-02-08  ┆ … ┆ Day         ┆ Day        ┆ Day        ┆ Day        │\n",
       "│      ┆         ┆          ┆ 08:43:20    ┆   ┆             ┆            ┆            ┆            │\n",
       "│ A-17 ┆ Source2 ┆ 2        ┆ 2016-02-08  ┆ … ┆ Day         ┆ Day        ┆ Day        ┆ Day        │\n",
       "│      ┆         ┆          ┆ 08:53:17    ┆   ┆             ┆            ┆            ┆            │\n",
       "│ A-18 ┆ Source2 ┆ 2        ┆ 2016-02-08  ┆ … ┆ Day         ┆ Day        ┆ Day        ┆ Day        │\n",
       "│      ┆         ┆          ┆ 09:24:37    ┆   ┆             ┆            ┆            ┆            │\n",
       "│ A-19 ┆ Source2 ┆ 2        ┆ 2016-02-08  ┆ … ┆ Day         ┆ Day        ┆ Day        ┆ Day        │\n",
       "│      ┆         ┆          ┆ 09:25:17    ┆   ┆             ┆            ┆            ┆            │\n",
       "│ A-20 ┆ Source2 ┆ 2        ┆ 2016-02-08  ┆ … ┆ Day         ┆ Day        ┆ Day        ┆ Day        │\n",
       "│      ┆         ┆          ┆ 09:35:35    ┆   ┆             ┆            ┆            ┆            │\n",
       "└──────┴─────────┴──────────┴─────────────┴───┴─────────────┴────────────┴────────────┴────────────┘"
      ]
     },
     "execution_count": 6,
     "metadata": {},
     "output_type": "execute_result"
    }
   ],
   "source": [
    "df.head(20)"
   ]
  },
  {
   "cell_type": "code",
   "execution_count": 7,
   "metadata": {},
   "outputs": [
    {
     "data": {
      "text/plain": [
       "['ID',\n",
       " 'Source',\n",
       " 'Severity',\n",
       " 'Start_Time',\n",
       " 'End_Time',\n",
       " 'Start_Lat',\n",
       " 'Start_Lng',\n",
       " 'End_Lat',\n",
       " 'End_Lng',\n",
       " 'Distance(mi)',\n",
       " 'Description',\n",
       " 'Street',\n",
       " 'City',\n",
       " 'County',\n",
       " 'State',\n",
       " 'Zipcode',\n",
       " 'Country',\n",
       " 'Timezone',\n",
       " 'Airport_Code',\n",
       " 'Weather_Timestamp',\n",
       " 'Temperature(F)',\n",
       " 'Wind_Chill(F)',\n",
       " 'Humidity(%)',\n",
       " 'Pressure(in)',\n",
       " 'Visibility(mi)',\n",
       " 'Wind_Direction',\n",
       " 'Wind_Speed(mph)',\n",
       " 'Precipitation(in)',\n",
       " 'Weather_Condition',\n",
       " 'Amenity',\n",
       " 'Bump',\n",
       " 'Crossing',\n",
       " 'Give_Way',\n",
       " 'Junction',\n",
       " 'No_Exit',\n",
       " 'Railway',\n",
       " 'Roundabout',\n",
       " 'Station',\n",
       " 'Stop',\n",
       " 'Traffic_Calming',\n",
       " 'Traffic_Signal',\n",
       " 'Turning_Loop',\n",
       " 'Sunrise_Sunset',\n",
       " 'Civil_Twilight',\n",
       " 'Nautical_Twilight',\n",
       " 'Astronomical_Twilight']"
      ]
     },
     "execution_count": 7,
     "metadata": {},
     "output_type": "execute_result"
    }
   ],
   "source": [
    "df.columns"
   ]
  },
  {
   "cell_type": "code",
   "execution_count": 8,
   "metadata": {},
   "outputs": [],
   "source": [
    "df = df.drop([\"Source\", \"ID\"])"
   ]
  },
  {
   "cell_type": "code",
   "execution_count": 9,
   "metadata": {},
   "outputs": [
    {
     "data": {
      "text/html": [
       "<div><style>\n",
       ".dataframe > thead > tr,\n",
       ".dataframe > tbody > tr {\n",
       "  text-align: right;\n",
       "  white-space: pre-wrap;\n",
       "}\n",
       "</style>\n",
       "<small>shape: (7_728_394, 44)</small><table border=\"1\" class=\"dataframe\"><thead><tr><th>Severity</th><th>Start_Time</th><th>End_Time</th><th>Start_Lat</th><th>Start_Lng</th><th>End_Lat</th><th>End_Lng</th><th>Distance(mi)</th><th>Description</th><th>Street</th><th>City</th><th>County</th><th>State</th><th>Zipcode</th><th>Country</th><th>Timezone</th><th>Airport_Code</th><th>Weather_Timestamp</th><th>Temperature(F)</th><th>Wind_Chill(F)</th><th>Humidity(%)</th><th>Pressure(in)</th><th>Visibility(mi)</th><th>Wind_Direction</th><th>Wind_Speed(mph)</th><th>Precipitation(in)</th><th>Weather_Condition</th><th>Amenity</th><th>Bump</th><th>Crossing</th><th>Give_Way</th><th>Junction</th><th>No_Exit</th><th>Railway</th><th>Roundabout</th><th>Station</th><th>Stop</th><th>Traffic_Calming</th><th>Traffic_Signal</th><th>Turning_Loop</th><th>Sunrise_Sunset</th><th>Civil_Twilight</th><th>Nautical_Twilight</th><th>Astronomical_Twilight</th></tr><tr><td>i64</td><td>str</td><td>str</td><td>f64</td><td>f64</td><td>str</td><td>str</td><td>f64</td><td>str</td><td>str</td><td>str</td><td>str</td><td>str</td><td>str</td><td>str</td><td>str</td><td>str</td><td>str</td><td>f64</td><td>f64</td><td>f64</td><td>f64</td><td>f64</td><td>str</td><td>f64</td><td>f64</td><td>str</td><td>bool</td><td>bool</td><td>bool</td><td>bool</td><td>bool</td><td>bool</td><td>bool</td><td>bool</td><td>bool</td><td>bool</td><td>bool</td><td>bool</td><td>bool</td><td>str</td><td>str</td><td>str</td><td>str</td></tr></thead><tbody><tr><td>3</td><td>&quot;2016-02-08 05:46:00&quot;</td><td>&quot;2016-02-08 11:00:00&quot;</td><td>39.865147</td><td>-84.058723</td><td>null</td><td>null</td><td>0.01</td><td>&quot;Right lane blocked due to acci…</td><td>&quot;I-70 E&quot;</td><td>&quot;Dayton&quot;</td><td>&quot;Montgomery&quot;</td><td>&quot;OH&quot;</td><td>&quot;45424&quot;</td><td>&quot;US&quot;</td><td>&quot;US/Eastern&quot;</td><td>&quot;KFFO&quot;</td><td>&quot;2016-02-08 05:58:00&quot;</td><td>36.9</td><td>null</td><td>91.0</td><td>29.68</td><td>10.0</td><td>&quot;Calm&quot;</td><td>null</td><td>0.02</td><td>&quot;Light Rain&quot;</td><td>false</td><td>false</td><td>false</td><td>false</td><td>false</td><td>false</td><td>false</td><td>false</td><td>false</td><td>false</td><td>false</td><td>false</td><td>false</td><td>&quot;Night&quot;</td><td>&quot;Night&quot;</td><td>&quot;Night&quot;</td><td>&quot;Night&quot;</td></tr><tr><td>2</td><td>&quot;2016-02-08 06:07:59&quot;</td><td>&quot;2016-02-08 06:37:59&quot;</td><td>39.928059</td><td>-82.831184</td><td>null</td><td>null</td><td>0.01</td><td>&quot;Accident on Brice Rd at Tussin…</td><td>&quot;Brice Rd&quot;</td><td>&quot;Reynoldsburg&quot;</td><td>&quot;Franklin&quot;</td><td>&quot;OH&quot;</td><td>&quot;43068-3402&quot;</td><td>&quot;US&quot;</td><td>&quot;US/Eastern&quot;</td><td>&quot;KCMH&quot;</td><td>&quot;2016-02-08 05:51:00&quot;</td><td>37.9</td><td>null</td><td>100.0</td><td>29.65</td><td>10.0</td><td>&quot;Calm&quot;</td><td>null</td><td>0.0</td><td>&quot;Light Rain&quot;</td><td>false</td><td>false</td><td>false</td><td>false</td><td>false</td><td>false</td><td>false</td><td>false</td><td>false</td><td>false</td><td>false</td><td>false</td><td>false</td><td>&quot;Night&quot;</td><td>&quot;Night&quot;</td><td>&quot;Night&quot;</td><td>&quot;Day&quot;</td></tr><tr><td>2</td><td>&quot;2016-02-08 06:49:27&quot;</td><td>&quot;2016-02-08 07:19:27&quot;</td><td>39.063148</td><td>-84.032608</td><td>null</td><td>null</td><td>0.01</td><td>&quot;Accident on OH-32 State Route …</td><td>&quot;State Route 32&quot;</td><td>&quot;Williamsburg&quot;</td><td>&quot;Clermont&quot;</td><td>&quot;OH&quot;</td><td>&quot;45176&quot;</td><td>&quot;US&quot;</td><td>&quot;US/Eastern&quot;</td><td>&quot;KI69&quot;</td><td>&quot;2016-02-08 06:56:00&quot;</td><td>36.0</td><td>33.3</td><td>100.0</td><td>29.67</td><td>10.0</td><td>&quot;SW&quot;</td><td>3.5</td><td>null</td><td>&quot;Overcast&quot;</td><td>false</td><td>false</td><td>false</td><td>false</td><td>false</td><td>false</td><td>false</td><td>false</td><td>false</td><td>false</td><td>false</td><td>true</td><td>false</td><td>&quot;Night&quot;</td><td>&quot;Night&quot;</td><td>&quot;Day&quot;</td><td>&quot;Day&quot;</td></tr><tr><td>3</td><td>&quot;2016-02-08 07:23:34&quot;</td><td>&quot;2016-02-08 07:53:34&quot;</td><td>39.747753</td><td>-84.205582</td><td>null</td><td>null</td><td>0.01</td><td>&quot;Accident on I-75 Southbound at…</td><td>&quot;I-75 S&quot;</td><td>&quot;Dayton&quot;</td><td>&quot;Montgomery&quot;</td><td>&quot;OH&quot;</td><td>&quot;45417&quot;</td><td>&quot;US&quot;</td><td>&quot;US/Eastern&quot;</td><td>&quot;KDAY&quot;</td><td>&quot;2016-02-08 07:38:00&quot;</td><td>35.1</td><td>31.0</td><td>96.0</td><td>29.64</td><td>9.0</td><td>&quot;SW&quot;</td><td>4.6</td><td>null</td><td>&quot;Mostly Cloudy&quot;</td><td>false</td><td>false</td><td>false</td><td>false</td><td>false</td><td>false</td><td>false</td><td>false</td><td>false</td><td>false</td><td>false</td><td>false</td><td>false</td><td>&quot;Night&quot;</td><td>&quot;Day&quot;</td><td>&quot;Day&quot;</td><td>&quot;Day&quot;</td></tr><tr><td>2</td><td>&quot;2016-02-08 07:39:07&quot;</td><td>&quot;2016-02-08 08:09:07&quot;</td><td>39.627781</td><td>-84.188354</td><td>null</td><td>null</td><td>0.01</td><td>&quot;Accident on McEwen Rd at OH-72…</td><td>&quot;Miamisburg Centerville Rd&quot;</td><td>&quot;Dayton&quot;</td><td>&quot;Montgomery&quot;</td><td>&quot;OH&quot;</td><td>&quot;45459&quot;</td><td>&quot;US&quot;</td><td>&quot;US/Eastern&quot;</td><td>&quot;KMGY&quot;</td><td>&quot;2016-02-08 07:53:00&quot;</td><td>36.0</td><td>33.3</td><td>89.0</td><td>29.65</td><td>6.0</td><td>&quot;SW&quot;</td><td>3.5</td><td>null</td><td>&quot;Mostly Cloudy&quot;</td><td>false</td><td>false</td><td>false</td><td>false</td><td>false</td><td>false</td><td>false</td><td>false</td><td>false</td><td>false</td><td>false</td><td>true</td><td>false</td><td>&quot;Day&quot;</td><td>&quot;Day&quot;</td><td>&quot;Day&quot;</td><td>&quot;Day&quot;</td></tr><tr><td>&hellip;</td><td>&hellip;</td><td>&hellip;</td><td>&hellip;</td><td>&hellip;</td><td>&hellip;</td><td>&hellip;</td><td>&hellip;</td><td>&hellip;</td><td>&hellip;</td><td>&hellip;</td><td>&hellip;</td><td>&hellip;</td><td>&hellip;</td><td>&hellip;</td><td>&hellip;</td><td>&hellip;</td><td>&hellip;</td><td>&hellip;</td><td>&hellip;</td><td>&hellip;</td><td>&hellip;</td><td>&hellip;</td><td>&hellip;</td><td>&hellip;</td><td>&hellip;</td><td>&hellip;</td><td>&hellip;</td><td>&hellip;</td><td>&hellip;</td><td>&hellip;</td><td>&hellip;</td><td>&hellip;</td><td>&hellip;</td><td>&hellip;</td><td>&hellip;</td><td>&hellip;</td><td>&hellip;</td><td>&hellip;</td><td>&hellip;</td><td>&hellip;</td><td>&hellip;</td><td>&hellip;</td><td>&hellip;</td></tr><tr><td>2</td><td>&quot;2019-08-23 18:03:25&quot;</td><td>&quot;2019-08-23 18:32:01&quot;</td><td>34.00248</td><td>-117.37936</td><td>&quot;33.99888&quot;</td><td>&quot;-117.37094&quot;</td><td>0.543</td><td>&quot;At Market St - Accident.&quot;</td><td>&quot;Pomona Fwy E&quot;</td><td>&quot;Riverside&quot;</td><td>&quot;Riverside&quot;</td><td>&quot;CA&quot;</td><td>&quot;92501&quot;</td><td>&quot;US&quot;</td><td>&quot;US/Pacific&quot;</td><td>&quot;KRAL&quot;</td><td>&quot;2019-08-23 17:53:00&quot;</td><td>86.0</td><td>86.0</td><td>40.0</td><td>28.92</td><td>10.0</td><td>&quot;W&quot;</td><td>13.0</td><td>0.0</td><td>&quot;Fair&quot;</td><td>false</td><td>false</td><td>false</td><td>false</td><td>false</td><td>false</td><td>false</td><td>false</td><td>false</td><td>false</td><td>false</td><td>false</td><td>false</td><td>&quot;Day&quot;</td><td>&quot;Day&quot;</td><td>&quot;Day&quot;</td><td>&quot;Day&quot;</td></tr><tr><td>2</td><td>&quot;2019-08-23 19:11:30&quot;</td><td>&quot;2019-08-23 19:38:23&quot;</td><td>32.76696</td><td>-117.14806</td><td>&quot;32.76555&quot;</td><td>&quot;-117.15363&quot;</td><td>0.338</td><td>&quot;At Camino Del Rio/Mission Cent…</td><td>&quot;I-8 W&quot;</td><td>&quot;San Diego&quot;</td><td>&quot;San Diego&quot;</td><td>&quot;CA&quot;</td><td>&quot;92108&quot;</td><td>&quot;US&quot;</td><td>&quot;US/Pacific&quot;</td><td>&quot;KMYF&quot;</td><td>&quot;2019-08-23 18:53:00&quot;</td><td>70.0</td><td>70.0</td><td>73.0</td><td>29.39</td><td>10.0</td><td>&quot;SW&quot;</td><td>6.0</td><td>0.0</td><td>&quot;Fair&quot;</td><td>false</td><td>false</td><td>false</td><td>false</td><td>false</td><td>false</td><td>false</td><td>false</td><td>false</td><td>false</td><td>false</td><td>false</td><td>false</td><td>&quot;Day&quot;</td><td>&quot;Day&quot;</td><td>&quot;Day&quot;</td><td>&quot;Day&quot;</td></tr><tr><td>2</td><td>&quot;2019-08-23 19:00:21&quot;</td><td>&quot;2019-08-23 19:28:49&quot;</td><td>33.77545</td><td>-117.84779</td><td>&quot;33.7774&quot;</td><td>&quot;-117.85727&quot;</td><td>0.561</td><td>&quot;At Glassell St/Grand Ave - Acc…</td><td>&quot;Garden Grove Fwy&quot;</td><td>&quot;Orange&quot;</td><td>&quot;Orange&quot;</td><td>&quot;CA&quot;</td><td>&quot;92866&quot;</td><td>&quot;US&quot;</td><td>&quot;US/Pacific&quot;</td><td>&quot;KSNA&quot;</td><td>&quot;2019-08-23 18:53:00&quot;</td><td>73.0</td><td>73.0</td><td>64.0</td><td>29.74</td><td>10.0</td><td>&quot;SSW&quot;</td><td>10.0</td><td>0.0</td><td>&quot;Partly Cloudy&quot;</td><td>false</td><td>false</td><td>false</td><td>false</td><td>true</td><td>false</td><td>false</td><td>false</td><td>false</td><td>false</td><td>false</td><td>false</td><td>false</td><td>&quot;Day&quot;</td><td>&quot;Day&quot;</td><td>&quot;Day&quot;</td><td>&quot;Day&quot;</td></tr><tr><td>2</td><td>&quot;2019-08-23 19:00:21&quot;</td><td>&quot;2019-08-23 19:29:42&quot;</td><td>33.99246</td><td>-118.40302</td><td>&quot;33.98311&quot;</td><td>&quot;-118.39565&quot;</td><td>0.772</td><td>&quot;At CA-90/Marina Fwy/Jefferson …</td><td>&quot;San Diego Fwy S&quot;</td><td>&quot;Culver City&quot;</td><td>&quot;Los Angeles&quot;</td><td>&quot;CA&quot;</td><td>&quot;90230&quot;</td><td>&quot;US&quot;</td><td>&quot;US/Pacific&quot;</td><td>&quot;KSMO&quot;</td><td>&quot;2019-08-23 18:51:00&quot;</td><td>71.0</td><td>71.0</td><td>81.0</td><td>29.62</td><td>10.0</td><td>&quot;SW&quot;</td><td>8.0</td><td>0.0</td><td>&quot;Fair&quot;</td><td>false</td><td>false</td><td>false</td><td>false</td><td>false</td><td>false</td><td>false</td><td>false</td><td>false</td><td>false</td><td>false</td><td>false</td><td>false</td><td>&quot;Day&quot;</td><td>&quot;Day&quot;</td><td>&quot;Day&quot;</td><td>&quot;Day&quot;</td></tr><tr><td>2</td><td>&quot;2019-08-23 18:52:06&quot;</td><td>&quot;2019-08-23 19:21:31&quot;</td><td>34.13393</td><td>-117.23092</td><td>&quot;34.13736&quot;</td><td>&quot;-117.23933999999998&quot;</td><td>0.537</td><td>&quot;At Highland Ave/Arden Ave - Ac…</td><td>&quot;CA-210 W&quot;</td><td>&quot;Highland&quot;</td><td>&quot;San Bernardino&quot;</td><td>&quot;CA&quot;</td><td>&quot;92346&quot;</td><td>&quot;US&quot;</td><td>&quot;US/Pacific&quot;</td><td>&quot;KSBD&quot;</td><td>&quot;2019-08-23 20:50:00&quot;</td><td>79.0</td><td>79.0</td><td>47.0</td><td>28.63</td><td>7.0</td><td>&quot;SW&quot;</td><td>7.0</td><td>0.0</td><td>&quot;Fair&quot;</td><td>false</td><td>false</td><td>false</td><td>false</td><td>false</td><td>false</td><td>false</td><td>false</td><td>false</td><td>false</td><td>false</td><td>false</td><td>false</td><td>&quot;Day&quot;</td><td>&quot;Day&quot;</td><td>&quot;Day&quot;</td><td>&quot;Day&quot;</td></tr></tbody></table></div>"
      ],
      "text/plain": [
       "shape: (7_728_394, 44)\n",
       "┌──────────┬───────────┬───────────┬───────────┬───┬───────────┬───────────┬───────────┬───────────┐\n",
       "│ Severity ┆ Start_Tim ┆ End_Time  ┆ Start_Lat ┆ … ┆ Sunrise_S ┆ Civil_Twi ┆ Nautical_ ┆ Astronomi │\n",
       "│ ---      ┆ e         ┆ ---       ┆ ---       ┆   ┆ unset     ┆ light     ┆ Twilight  ┆ cal_Twili │\n",
       "│ i64      ┆ ---       ┆ str       ┆ f64       ┆   ┆ ---       ┆ ---       ┆ ---       ┆ ght       │\n",
       "│          ┆ str       ┆           ┆           ┆   ┆ str       ┆ str       ┆ str       ┆ ---       │\n",
       "│          ┆           ┆           ┆           ┆   ┆           ┆           ┆           ┆ str       │\n",
       "╞══════════╪═══════════╪═══════════╪═══════════╪═══╪═══════════╪═══════════╪═══════════╪═══════════╡\n",
       "│ 3        ┆ 2016-02-0 ┆ 2016-02-0 ┆ 39.865147 ┆ … ┆ Night     ┆ Night     ┆ Night     ┆ Night     │\n",
       "│          ┆ 8         ┆ 8         ┆           ┆   ┆           ┆           ┆           ┆           │\n",
       "│          ┆ 05:46:00  ┆ 11:00:00  ┆           ┆   ┆           ┆           ┆           ┆           │\n",
       "│ 2        ┆ 2016-02-0 ┆ 2016-02-0 ┆ 39.928059 ┆ … ┆ Night     ┆ Night     ┆ Night     ┆ Day       │\n",
       "│          ┆ 8         ┆ 8         ┆           ┆   ┆           ┆           ┆           ┆           │\n",
       "│          ┆ 06:07:59  ┆ 06:37:59  ┆           ┆   ┆           ┆           ┆           ┆           │\n",
       "│ 2        ┆ 2016-02-0 ┆ 2016-02-0 ┆ 39.063148 ┆ … ┆ Night     ┆ Night     ┆ Day       ┆ Day       │\n",
       "│          ┆ 8         ┆ 8         ┆           ┆   ┆           ┆           ┆           ┆           │\n",
       "│          ┆ 06:49:27  ┆ 07:19:27  ┆           ┆   ┆           ┆           ┆           ┆           │\n",
       "│ 3        ┆ 2016-02-0 ┆ 2016-02-0 ┆ 39.747753 ┆ … ┆ Night     ┆ Day       ┆ Day       ┆ Day       │\n",
       "│          ┆ 8         ┆ 8         ┆           ┆   ┆           ┆           ┆           ┆           │\n",
       "│          ┆ 07:23:34  ┆ 07:53:34  ┆           ┆   ┆           ┆           ┆           ┆           │\n",
       "│ 2        ┆ 2016-02-0 ┆ 2016-02-0 ┆ 39.627781 ┆ … ┆ Day       ┆ Day       ┆ Day       ┆ Day       │\n",
       "│          ┆ 8         ┆ 8         ┆           ┆   ┆           ┆           ┆           ┆           │\n",
       "│          ┆ 07:39:07  ┆ 08:09:07  ┆           ┆   ┆           ┆           ┆           ┆           │\n",
       "│ …        ┆ …         ┆ …         ┆ …         ┆ … ┆ …         ┆ …         ┆ …         ┆ …         │\n",
       "│ 2        ┆ 2019-08-2 ┆ 2019-08-2 ┆ 34.00248  ┆ … ┆ Day       ┆ Day       ┆ Day       ┆ Day       │\n",
       "│          ┆ 3         ┆ 3         ┆           ┆   ┆           ┆           ┆           ┆           │\n",
       "│          ┆ 18:03:25  ┆ 18:32:01  ┆           ┆   ┆           ┆           ┆           ┆           │\n",
       "│ 2        ┆ 2019-08-2 ┆ 2019-08-2 ┆ 32.76696  ┆ … ┆ Day       ┆ Day       ┆ Day       ┆ Day       │\n",
       "│          ┆ 3         ┆ 3         ┆           ┆   ┆           ┆           ┆           ┆           │\n",
       "│          ┆ 19:11:30  ┆ 19:38:23  ┆           ┆   ┆           ┆           ┆           ┆           │\n",
       "│ 2        ┆ 2019-08-2 ┆ 2019-08-2 ┆ 33.77545  ┆ … ┆ Day       ┆ Day       ┆ Day       ┆ Day       │\n",
       "│          ┆ 3         ┆ 3         ┆           ┆   ┆           ┆           ┆           ┆           │\n",
       "│          ┆ 19:00:21  ┆ 19:28:49  ┆           ┆   ┆           ┆           ┆           ┆           │\n",
       "│ 2        ┆ 2019-08-2 ┆ 2019-08-2 ┆ 33.99246  ┆ … ┆ Day       ┆ Day       ┆ Day       ┆ Day       │\n",
       "│          ┆ 3         ┆ 3         ┆           ┆   ┆           ┆           ┆           ┆           │\n",
       "│          ┆ 19:00:21  ┆ 19:29:42  ┆           ┆   ┆           ┆           ┆           ┆           │\n",
       "│ 2        ┆ 2019-08-2 ┆ 2019-08-2 ┆ 34.13393  ┆ … ┆ Day       ┆ Day       ┆ Day       ┆ Day       │\n",
       "│          ┆ 3         ┆ 3         ┆           ┆   ┆           ┆           ┆           ┆           │\n",
       "│          ┆ 18:52:06  ┆ 19:21:31  ┆           ┆   ┆           ┆           ┆           ┆           │\n",
       "└──────────┴───────────┴───────────┴───────────┴───┴───────────┴───────────┴───────────┴───────────┘"
      ]
     },
     "execution_count": 9,
     "metadata": {},
     "output_type": "execute_result"
    }
   ],
   "source": [
    "df"
   ]
  },
  {
   "cell_type": "code",
   "execution_count": null,
   "metadata": {},
   "outputs": [],
   "source": []
  }
 ],
 "metadata": {
  "kernelspec": {
   "display_name": "venv",
   "language": "python",
   "name": "python3"
  },
  "language_info": {
   "codemirror_mode": {
    "name": "ipython",
    "version": 3
   },
   "file_extension": ".py",
   "mimetype": "text/x-python",
   "name": "python",
   "nbconvert_exporter": "python",
   "pygments_lexer": "ipython3",
   "version": "3.10.12"
  }
 },
 "nbformat": 4,
 "nbformat_minor": 2
}
